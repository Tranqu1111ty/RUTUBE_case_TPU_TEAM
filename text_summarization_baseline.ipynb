{
 "cells": [
  {
   "cell_type": "markdown",
   "id": "706c44f3-3504-4b89-83b7-a7848f5c244b",
   "metadata": {},
   "source": [
    "# Автогенерация текстовых описаний к видео (кейс Rutube)\n",
    "\n",
    "В данном кейсе вам предлагается решить задачу автогенерации краткого тектового описания к видео, на основе видеофайла и автоматической транскрибации. \n",
    "\n",
    "Структура датасета следующая:\n",
    "\n",
    "train.csv\n",
    "- **video_name** - название видео (в директории **train_video**)\n",
    "- **stt_name** - название файла с транскрибацией (в директории **train_stt**)\n",
    "- **category_name** - категория видео\n",
    "- **title** - название видео\n",
    "- **description** - описание видео\n",
    "\n",
    "В ноутбуке вы можете пронаблюдать baseline модель, без обучения (unsupervised) в качестве простого примера, основанную только на файле транскрибации. Также в конце считается метрика meteor по baseline модели и модели, которая из транскрипта речи (STT) выдает первые несколько предложений для сравнения. \n",
    "\n",
    "Тестовый датасет будет прислан вам позднее, поэтому здесь он фигурировать не будет."
   ]
  },
  {
   "cell_type": "markdown",
   "id": "863f9dc6-d5cf-4670-8346-eeda1e090214",
   "metadata": {},
   "source": [
    "Немного про модель: LexRankSummarizer, не вдаваясь в детали, можно сказать, что модель основана на статистиках, ее цель - найти самые \"важные\" предложения из полного текста (STT). \n",
    "\n",
    "Предложения представляются в виде мешка слов и получают эмбеддинги c tfidf, далее считаются косинусные близости предложений друг с другом. Следующая часть модели взята из немалоизвестной PageRank - строится граф, где на рёбрах стоит косинусная близость. Финальная часть  - по графу строится матрица, в ней находится максимальное сингулярное значение и таким образом находятся самые \"значимые\" предложения из большого текста.\n",
    "\n",
    "Подробнее можно почитать например тут https://www.codingninjas.com/studio/library/lexrank\n",
    "\n",
    "На метрики и сравнение моделей на других бенчмарках тут https://www.dialog-21.ru/media/5764/golovizninavspluskotelnikovev038.pdf\n",
    "\n",
    "Для предобработки данных мы только удаляем стоп-слова (слишком часто встречаемые, например предлоги, союзы и тп), которые могут портить модель."
   ]
  },
  {
   "cell_type": "code",
   "execution_count": 1,
   "id": "b242c162-1626-4a7e-bbaf-8843c2a50432",
   "metadata": {},
   "outputs": [],
   "source": [
    "# lex rank - unsupervised upproach\n",
    "from sumy.parsers.plaintext import PlaintextParser\n",
    "from sumy.nlp.tokenizers import Tokenizer\n",
    "from sumy.summarizers.lex_rank import LexRankSummarizer\n",
    "from sumy.nlp.stemmers import Stemmer\n",
    "import nltk\n",
    "from nltk.corpus import stopwords\n",
    "import numpy as np\n",
    "\n",
    "\n",
    "# nltk.download('stopwords')\n",
    "\n",
    "# Допольнительные стоп-слова можно скачать здесь\n",
    "# https://github.com/stopwords-iso/stopwords-ru/blob/master/raw/stop-words-russian.txt\n",
    "# но в этот список мы также добавили пару примеров вручную, поэтому прикладываем готовый файл. \n",
    "# Вы также можете модифицировать на свое усмотрение, или вовсе от него отказаться\n",
    "\n",
    "with open(\"stop-words-russian.txt\", 'r') as f:\n",
    "    extra_stop_words = f.readlines()\n",
    "    extra_stop_words = [line.strip() for line in extra_stop_words]\n",
    "\n",
    "\n",
    "def sumy_method(text, n_sent: int = 4):\n",
    "    \n",
    "    parser = PlaintextParser.from_string(text, Tokenizer(\"russian\"))\n",
    "    \n",
    "    stemmer = Stemmer(\"russian\")\n",
    "    summarizer = LexRankSummarizer(stemmer)\n",
    "    stopwords_ru = stopwords.words('russian')\n",
    "    stopwords_ru.extend(extra_stop_words)\n",
    "    summarizer.stop_words = stopwords_ru\n",
    "    \n",
    "    #Summarize the document with n_sent sentences\n",
    "    summary = summarizer(parser.document, n_sent)\n",
    "    dp = []\n",
    "    if len(summary)> 0:\n",
    "        for i in summary:\n",
    "            lp = str(i)\n",
    "            dp.append(lp)\n",
    "    \n",
    "        final_sentence = ' '.join(dp)\n",
    "    else:\n",
    "        final_sentence = ''\n",
    "    if len(final_sentence.split(\" \"))>512:\n",
    "        final_sentence = \" \".join(final_sentence.split(\" \")[:512])\n",
    "    return final_sentence"
   ]
  },
  {
   "cell_type": "code",
   "execution_count": null,
   "id": "d54a8e3b-b463-46d6-9503-18559b82ecc3",
   "metadata": {},
   "outputs": [],
   "source": []
  },
  {
   "cell_type": "code",
   "execution_count": 2,
   "id": "f0dfbd70-d196-418c-a0a5-1f61281c2e2a",
   "metadata": {},
   "outputs": [],
   "source": [
    "import pandas as pd\n",
    "import os\n",
    "PATH_TO_DATA = 'train/'\n",
    "dataset = pd.read_csv(os.path.join(PATH_TO_DATA, \"train.csv\"))"
   ]
  },
  {
   "cell_type": "code",
   "execution_count": 3,
   "id": "ba02706a-8a7e-42b3-b1fb-558dd76f8229",
   "metadata": {},
   "outputs": [
    {
     "data": {
      "text/html": [
       "<div>\n",
       "<style scoped>\n",
       "    .dataframe tbody tr th:only-of-type {\n",
       "        vertical-align: middle;\n",
       "    }\n",
       "\n",
       "    .dataframe tbody tr th {\n",
       "        vertical-align: top;\n",
       "    }\n",
       "\n",
       "    .dataframe thead th {\n",
       "        text-align: right;\n",
       "    }\n",
       "</style>\n",
       "<table border=\"1\" class=\"dataframe\">\n",
       "  <thead>\n",
       "    <tr style=\"text-align: right;\">\n",
       "      <th></th>\n",
       "      <th>video_name</th>\n",
       "      <th>stt_name</th>\n",
       "      <th>category_name</th>\n",
       "      <th>title</th>\n",
       "      <th>description</th>\n",
       "    </tr>\n",
       "  </thead>\n",
       "  <tbody>\n",
       "    <tr>\n",
       "      <th>0</th>\n",
       "      <td>0.mp4</td>\n",
       "      <td>0.txt</td>\n",
       "      <td>Развлечения</td>\n",
       "      <td>Правильная цена I #3</td>\n",
       "      <td>С вами Макс Климток и это шоу Правильная цена!...</td>\n",
       "    </tr>\n",
       "    <tr>\n",
       "      <th>1</th>\n",
       "      <td>1.mp4</td>\n",
       "      <td>1.txt</td>\n",
       "      <td>Спорт/Игры</td>\n",
       "      <td>Три лошадиные силы | Выпуск №2</td>\n",
       "      <td>В этом новом выпуске нас ждут не менее новые и...</td>\n",
       "    </tr>\n",
       "    <tr>\n",
       "      <th>2</th>\n",
       "      <td>2.mp4</td>\n",
       "      <td>2.txt</td>\n",
       "      <td>Блоги</td>\n",
       "      <td>Хашлама | Выпуск 4 | Силиконовый ПРЕСС Давы | ...</td>\n",
       "      <td>Привет, это Султан и Авет! Мы опять хаваем вку...</td>\n",
       "    </tr>\n",
       "    <tr>\n",
       "      <th>3</th>\n",
       "      <td>3.mp4</td>\n",
       "      <td>3.txt</td>\n",
       "      <td>Путешествия</td>\n",
       "      <td>Прогулка по стране - Владивосток</td>\n",
       "      <td>Прогулка по Владивостоку. Самому большому горо...</td>\n",
       "    </tr>\n",
       "    <tr>\n",
       "      <th>4</th>\n",
       "      <td>4.mp4</td>\n",
       "      <td>4.txt</td>\n",
       "      <td>Искусство</td>\n",
       "      <td>Артмеханика. Выпуск 3. Татуировки + Mika Vino</td>\n",
       "      <td>Были ли татуировки на теле Николая II? Почему ...</td>\n",
       "    </tr>\n",
       "  </tbody>\n",
       "</table>\n",
       "</div>"
      ],
      "text/plain": [
       "  video_name stt_name category_name  \\\n",
       "0      0.mp4    0.txt   Развлечения   \n",
       "1      1.mp4    1.txt    Спорт/Игры   \n",
       "2      2.mp4    2.txt         Блоги   \n",
       "3      3.mp4    3.txt   Путешествия   \n",
       "4      4.mp4    4.txt     Искусство   \n",
       "\n",
       "                                               title  \\\n",
       "0                               Правильная цена I #3   \n",
       "1                     Три лошадиные силы | Выпуск №2   \n",
       "2  Хашлама | Выпуск 4 | Силиконовый ПРЕСС Давы | ...   \n",
       "3                   Прогулка по стране - Владивосток   \n",
       "4      Артмеханика. Выпуск 3. Татуировки + Mika Vino   \n",
       "\n",
       "                                         description  \n",
       "0  С вами Макс Климток и это шоу Правильная цена!...  \n",
       "1  В этом новом выпуске нас ждут не менее новые и...  \n",
       "2  Привет, это Султан и Авет! Мы опять хаваем вку...  \n",
       "3  Прогулка по Владивостоку. Самому большому горо...  \n",
       "4  Были ли татуировки на теле Николая II? Почему ...  "
      ]
     },
     "execution_count": 3,
     "metadata": {},
     "output_type": "execute_result"
    }
   ],
   "source": [
    "dataset.head(5)"
   ]
  },
  {
   "cell_type": "markdown",
   "id": "c95b9f79-2b91-44a2-888d-7b3c2c19aa23",
   "metadata": {},
   "source": [
    "### Для части видео речи может не быть, в бейзлайне мы это никак не учитываем, но вам предлагаем поработать и с такими ситуациями\n",
    "31.mp4, 74.mp4, 111.mp4, 298.mp4, 478.mp4 - нет речи\n"
   ]
  },
  {
   "cell_type": "code",
   "execution_count": 4,
   "id": "6bc44dff-cbc0-440c-a843-81ed8d567ded",
   "metadata": {},
   "outputs": [
    {
     "data": {
      "text/html": [
       "<div>\n",
       "<style scoped>\n",
       "    .dataframe tbody tr th:only-of-type {\n",
       "        vertical-align: middle;\n",
       "    }\n",
       "\n",
       "    .dataframe tbody tr th {\n",
       "        vertical-align: top;\n",
       "    }\n",
       "\n",
       "    .dataframe thead th {\n",
       "        text-align: right;\n",
       "    }\n",
       "</style>\n",
       "<table border=\"1\" class=\"dataframe\">\n",
       "  <thead>\n",
       "    <tr style=\"text-align: right;\">\n",
       "      <th></th>\n",
       "      <th>video_name</th>\n",
       "      <th>stt_name</th>\n",
       "      <th>category_name</th>\n",
       "      <th>title</th>\n",
       "      <th>description</th>\n",
       "    </tr>\n",
       "  </thead>\n",
       "  <tbody>\n",
       "    <tr>\n",
       "      <th>478</th>\n",
       "      <td>478.mp4</td>\n",
       "      <td>478.txt</td>\n",
       "      <td>Путешествия</td>\n",
       "      <td>Прогулка по стране - Екатеринбург</td>\n",
       "      <td>Прогулка по Екатеринбургу — третьему по величи...</td>\n",
       "    </tr>\n",
       "  </tbody>\n",
       "</table>\n",
       "</div>"
      ],
      "text/plain": [
       "    video_name stt_name category_name                              title  \\\n",
       "478    478.mp4  478.txt   Путешествия  Прогулка по стране - Екатеринбург   \n",
       "\n",
       "                                           description  \n",
       "478  Прогулка по Екатеринбургу — третьему по величи...  "
      ]
     },
     "execution_count": 4,
     "metadata": {},
     "output_type": "execute_result"
    }
   ],
   "source": [
    "dataset[dataset.video_name == '478.mp4']"
   ]
  },
  {
   "cell_type": "code",
   "execution_count": 5,
   "id": "78ac8e79-a81c-4e1c-8f51-87fa401ac3d8",
   "metadata": {},
   "outputs": [
    {
     "data": {
      "text/plain": [
       "[]"
      ]
     },
     "execution_count": 5,
     "metadata": {},
     "output_type": "execute_result"
    }
   ],
   "source": [
    "with open(os.path.join(PATH_TO_DATA, 'train_stt', '478.txt'), 'r') as f:\n",
    "        lines = f.readlines()\n",
    "        lines = [line.strip() for line in lines]\n",
    "lines"
   ]
  },
  {
   "cell_type": "markdown",
   "id": "87caa523-10bf-410d-9cb4-d90ee2624922",
   "metadata": {},
   "source": [
    "### Чтобы понять сколько предложений нам нужно выдавать в качестве описания, посчитаем статистики"
   ]
  },
  {
   "cell_type": "code",
   "execution_count": 6,
   "id": "eed285a1-b66e-4f1d-88d9-ab519e5e9e70",
   "metadata": {},
   "outputs": [
    {
     "name": "stderr",
     "output_type": "stream",
     "text": [
      "[nltk_data] Downloading package wordnet to /home/kivanova/nltk_data...\n",
      "[nltk_data]   Package wordnet is already up-to-date!\n"
     ]
    },
    {
     "data": {
      "text/plain": [
       "True"
      ]
     },
     "execution_count": 6,
     "metadata": {},
     "output_type": "execute_result"
    }
   ],
   "source": [
    "import nltk\n",
    "from nltk.translate import meteor\n",
    "from nltk import word_tokenize, sent_tokenize\n",
    "nltk.download('wordnet')"
   ]
  },
  {
   "cell_type": "code",
   "execution_count": 7,
   "id": "e81fd10f-90a8-4a54-b253-442e6ecab099",
   "metadata": {},
   "outputs": [
    {
     "name": "stdout",
     "output_type": "stream",
     "text": [
      "Среднее число предложений в трейн датасете 4.032\n",
      "Медиана 3.0\n"
     ]
    }
   ],
   "source": [
    "dataset['len'] = dataset.description.apply(lambda l : len(sent_tokenize(l)))\n",
    "print(\"Среднее число предложений в трейн датасете\", np.mean(dataset['len'].to_list()))\n",
    "print(\"Медиана\", np.median(dataset['len'].to_list()))"
   ]
  },
  {
   "cell_type": "markdown",
   "id": "e6889c99-242c-47a0-a134-fe5c41d22538",
   "metadata": {},
   "source": [
    "### Теперь поймём примерный размер в токенах"
   ]
  },
  {
   "cell_type": "code",
   "execution_count": 8,
   "id": "ba88da50-3e8c-4904-8647-4556e0d39e99",
   "metadata": {},
   "outputs": [
    {
     "name": "stdout",
     "output_type": "stream",
     "text": [
      "Среднее число слов в трейн датасете 51.324\n",
      "Медиана 42.0\n",
      "Максимум 348\n"
     ]
    }
   ],
   "source": [
    "dataset['len_tokens'] = dataset.description.apply(lambda l : len(l.split(\" \")))\n",
    "\n",
    "print(\"Среднее число слов в трейн датасете\", np.mean(dataset['len_tokens'].to_list()))\n",
    "print(\"Медиана\", np.median(dataset['len_tokens'].to_list()))\n",
    "print(\"Максимум\", np.max(dataset['len_tokens'].to_list()))"
   ]
  },
  {
   "cell_type": "code",
   "execution_count": 9,
   "id": "56373777-aaaf-4897-9533-36f528bedad3",
   "metadata": {},
   "outputs": [],
   "source": [
    "# поэтому в sumy_method мы добавили ограничение на число слов в сгенерированном тексте \n",
    "# (512 слов в нашем случае, решили так ограничить макс 348 слов из трейна)"
   ]
  },
  {
   "cell_type": "markdown",
   "id": "cbf78ba0-495b-4bba-a742-5ce7e66078ab",
   "metadata": {},
   "source": [
    "### Генерируем текстовые описания для всех видео из трейна по текстовому описанию (из Speech To Text)\n",
    "Если в видео не было речи, то в качестве описания ставим категорию видео"
   ]
  },
  {
   "cell_type": "code",
   "execution_count": 10,
   "id": "9ddf0774-8a67-4551-ae1a-90fc618ceaea",
   "metadata": {},
   "outputs": [],
   "source": [
    "# Очистим STT от временных кодов\n",
    "from tqdm import tqdm\n",
    "tqdm.pandas()\n",
    "def del_timestamps(text):\n",
    "    text = text.split(\"]  \")[1:]\n",
    "    return \" \".join(text)"
   ]
  },
  {
   "cell_type": "code",
   "execution_count": 11,
   "id": "62f6897f-3df8-44bc-89ee-acb594360b9b",
   "metadata": {
    "scrolled": true
   },
   "outputs": [],
   "source": [
    "def gen_description(stt_name, n_sent, category_name):\n",
    "\n",
    "    with open(os.path.join(PATH_TO_DATA, 'train_stt', stt_name), 'r') as f:\n",
    "        lines = f.readlines()\n",
    "        lines = [del_timestamps(line.strip()) for line in lines]\n",
    "        lines = \" \".join(lines)\n",
    "        res = sumy_method(lines, n_sent)\n",
    "        if len(res)>0:\n",
    "            return res\n",
    "        else:\n",
    "            return category_name\n"
   ]
  },
  {
   "cell_type": "code",
   "execution_count": 12,
   "id": "0c2b002d-8d37-4321-8652-6d6f3118a4da",
   "metadata": {},
   "outputs": [
    {
     "name": "stderr",
     "output_type": "stream",
     "text": [
      "100%|█████████████████████████████████████████████████████████████████████████████████| 500/500 [06:32<00:00,  1.27it/s]"
     ]
    },
    {
     "name": "stdout",
     "output_type": "stream",
     "text": [
      "CPU times: user 8min 2s, sys: 5min 8s, total: 13min 10s\n",
      "Wall time: 6min 32s\n"
     ]
    },
    {
     "name": "stderr",
     "output_type": "stream",
     "text": [
      "\n"
     ]
    }
   ],
   "source": [
    "%%time\n",
    "dataset['stt_sum'] = np.nan\n",
    "dataset['stt_sum'] = dataset.progress_apply(lambda l: gen_description(l.stt_name, 4, l.category_name), axis=1)"
   ]
  },
  {
   "cell_type": "code",
   "execution_count": 13,
   "id": "11ebe39e-3cb9-4cbf-8952-6c081b73e041",
   "metadata": {},
   "outputs": [
    {
     "data": {
      "text/html": [
       "<div>\n",
       "<style scoped>\n",
       "    .dataframe tbody tr th:only-of-type {\n",
       "        vertical-align: middle;\n",
       "    }\n",
       "\n",
       "    .dataframe tbody tr th {\n",
       "        vertical-align: top;\n",
       "    }\n",
       "\n",
       "    .dataframe thead th {\n",
       "        text-align: right;\n",
       "    }\n",
       "</style>\n",
       "<table border=\"1\" class=\"dataframe\">\n",
       "  <thead>\n",
       "    <tr style=\"text-align: right;\">\n",
       "      <th></th>\n",
       "      <th>video_name</th>\n",
       "      <th>stt_name</th>\n",
       "      <th>category_name</th>\n",
       "      <th>title</th>\n",
       "      <th>description</th>\n",
       "      <th>len</th>\n",
       "      <th>len_tokens</th>\n",
       "      <th>stt_sum</th>\n",
       "    </tr>\n",
       "  </thead>\n",
       "  <tbody>\n",
       "    <tr>\n",
       "      <th>31</th>\n",
       "      <td>31.mp4</td>\n",
       "      <td>31.txt</td>\n",
       "      <td>Авто-мото</td>\n",
       "      <td>DSC OFF на Байкальской миле 2020</td>\n",
       "      <td>ГАЗ-24 «Волга КГБ» — проект Гурама Инцкирвели,...</td>\n",
       "      <td>4</td>\n",
       "      <td>48</td>\n",
       "      <td>Авто-мото</td>\n",
       "    </tr>\n",
       "    <tr>\n",
       "      <th>111</th>\n",
       "      <td>111.mp4</td>\n",
       "      <td>111.txt</td>\n",
       "      <td>Спорт</td>\n",
       "      <td>Команда MOTORCITY на Байкальской миле 2020</td>\n",
       "      <td>MOTORCITY собрала на фестиваль скорости “Байка...</td>\n",
       "      <td>5</td>\n",
       "      <td>116</td>\n",
       "      <td>Спорт</td>\n",
       "    </tr>\n",
       "    <tr>\n",
       "      <th>298</th>\n",
       "      <td>298.mp4</td>\n",
       "      <td>298.txt</td>\n",
       "      <td>Авто-мото</td>\n",
       "      <td>IVECO грузовик на Байкальской миле 2020</td>\n",
       "      <td>Фестиваль скорости \"Байкальская Миля 2020\" соб...</td>\n",
       "      <td>4</td>\n",
       "      <td>47</td>\n",
       "      <td>Авто-мото</td>\n",
       "    </tr>\n",
       "    <tr>\n",
       "      <th>478</th>\n",
       "      <td>478.mp4</td>\n",
       "      <td>478.txt</td>\n",
       "      <td>Путешествия</td>\n",
       "      <td>Прогулка по стране - Екатеринбург</td>\n",
       "      <td>Прогулка по Екатеринбургу — третьему по величи...</td>\n",
       "      <td>2</td>\n",
       "      <td>23</td>\n",
       "      <td>Путешествия</td>\n",
       "    </tr>\n",
       "  </tbody>\n",
       "</table>\n",
       "</div>"
      ],
      "text/plain": [
       "    video_name stt_name category_name  \\\n",
       "31      31.mp4   31.txt     Авто-мото   \n",
       "111    111.mp4  111.txt         Спорт   \n",
       "298    298.mp4  298.txt     Авто-мото   \n",
       "478    478.mp4  478.txt   Путешествия   \n",
       "\n",
       "                                          title  \\\n",
       "31             DSC OFF на Байкальской миле 2020   \n",
       "111  Команда MOTORCITY на Байкальской миле 2020   \n",
       "298     IVECO грузовик на Байкальской миле 2020   \n",
       "478           Прогулка по стране - Екатеринбург   \n",
       "\n",
       "                                           description  len  len_tokens  \\\n",
       "31   ГАЗ-24 «Волга КГБ» — проект Гурама Инцкирвели,...    4          48   \n",
       "111  MOTORCITY собрала на фестиваль скорости “Байка...    5         116   \n",
       "298  Фестиваль скорости \"Байкальская Миля 2020\" соб...    4          47   \n",
       "478  Прогулка по Екатеринбургу — третьему по величи...    2          23   \n",
       "\n",
       "         stt_sum  \n",
       "31     Авто-мото  \n",
       "111        Спорт  \n",
       "298    Авто-мото  \n",
       "478  Путешествия  "
      ]
     },
     "execution_count": 13,
     "metadata": {},
     "output_type": "execute_result"
    }
   ],
   "source": [
    "# видео, по которым нет речи и соответсвенно модель не смогла ничего выдать\n",
    "dataset[dataset.stt_sum.isin(dataset.category_name.unique())]"
   ]
  },
  {
   "cell_type": "code",
   "execution_count": 14,
   "id": "a118c667-f5af-4903-bedd-540c608e430d",
   "metadata": {},
   "outputs": [
    {
     "data": {
      "text/html": [
       "<div>\n",
       "<style scoped>\n",
       "    .dataframe tbody tr th:only-of-type {\n",
       "        vertical-align: middle;\n",
       "    }\n",
       "\n",
       "    .dataframe tbody tr th {\n",
       "        vertical-align: top;\n",
       "    }\n",
       "\n",
       "    .dataframe thead th {\n",
       "        text-align: right;\n",
       "    }\n",
       "</style>\n",
       "<table border=\"1\" class=\"dataframe\">\n",
       "  <thead>\n",
       "    <tr style=\"text-align: right;\">\n",
       "      <th></th>\n",
       "      <th>video_name</th>\n",
       "      <th>stt_name</th>\n",
       "      <th>category_name</th>\n",
       "      <th>title</th>\n",
       "      <th>description</th>\n",
       "      <th>len</th>\n",
       "      <th>len_tokens</th>\n",
       "      <th>stt_sum</th>\n",
       "    </tr>\n",
       "  </thead>\n",
       "  <tbody>\n",
       "    <tr>\n",
       "      <th>0</th>\n",
       "      <td>0.mp4</td>\n",
       "      <td>0.txt</td>\n",
       "      <td>Развлечения</td>\n",
       "      <td>Правильная цена I #3</td>\n",
       "      <td>С вами Макс Климток и это шоу Правильная цена!...</td>\n",
       "      <td>3</td>\n",
       "      <td>54</td>\n",
       "      <td>Итак, после первого раунда третье место с резу...</td>\n",
       "    </tr>\n",
       "    <tr>\n",
       "      <th>1</th>\n",
       "      <td>1.mp4</td>\n",
       "      <td>1.txt</td>\n",
       "      <td>Спорт/Игры</td>\n",
       "      <td>Три лошадиные силы | Выпуск №2</td>\n",
       "      <td>В этом новом выпуске нас ждут не менее новые и...</td>\n",
       "      <td>4</td>\n",
       "      <td>48</td>\n",
       "      <td>Самое, наверное, быстрое, чтобы мы сейчас не п...</td>\n",
       "    </tr>\n",
       "    <tr>\n",
       "      <th>2</th>\n",
       "      <td>2.mp4</td>\n",
       "      <td>2.txt</td>\n",
       "      <td>Блоги</td>\n",
       "      <td>Хашлама | Выпуск 4 | Силиконовый ПРЕСС Давы | ...</td>\n",
       "      <td>Привет, это Султан и Авет! Мы опять хаваем вку...</td>\n",
       "      <td>5</td>\n",
       "      <td>60</td>\n",
       "      <td>Короче, Авет, сколько всего произошло на прошл...</td>\n",
       "    </tr>\n",
       "  </tbody>\n",
       "</table>\n",
       "</div>"
      ],
      "text/plain": [
       "  video_name stt_name category_name  \\\n",
       "0      0.mp4    0.txt   Развлечения   \n",
       "1      1.mp4    1.txt    Спорт/Игры   \n",
       "2      2.mp4    2.txt         Блоги   \n",
       "\n",
       "                                               title  \\\n",
       "0                               Правильная цена I #3   \n",
       "1                     Три лошадиные силы | Выпуск №2   \n",
       "2  Хашлама | Выпуск 4 | Силиконовый ПРЕСС Давы | ...   \n",
       "\n",
       "                                         description  len  len_tokens  \\\n",
       "0  С вами Макс Климток и это шоу Правильная цена!...    3          54   \n",
       "1  В этом новом выпуске нас ждут не менее новые и...    4          48   \n",
       "2  Привет, это Султан и Авет! Мы опять хаваем вку...    5          60   \n",
       "\n",
       "                                             stt_sum  \n",
       "0  Итак, после первого раунда третье место с резу...  \n",
       "1  Самое, наверное, быстрое, чтобы мы сейчас не п...  \n",
       "2  Короче, Авет, сколько всего произошло на прошл...  "
      ]
     },
     "execution_count": 14,
     "metadata": {},
     "output_type": "execute_result"
    }
   ],
   "source": [
    "dataset.head(3)"
   ]
  },
  {
   "cell_type": "code",
   "execution_count": 15,
   "id": "a3969f8a-7860-42fa-958e-7e735af6a361",
   "metadata": {},
   "outputs": [
    {
     "data": {
      "text/plain": [
       "['Итак, после первого раунда третье место с результатом два балла у нас занимает Кика. Картина стоит в долларах, не в рублях. Давай, делаем вторую картину. Ну, правильно боишься, потому что цена данной картины составляет 1 тысяча долларов.',\n",
       " 'Самое, наверное, быстрое, чтобы мы сейчас не потеряли отрыв, это включить печку на максимальную жаркую температуру, закрыть все окна и продолжать ехать так до конца поездки. В смысле, печка на максимум, задание выполнено, мы едем. Что с Аветом, я не понимаю, он грузит видос уже где-то минут 25 и не может загрузить. Авет написал, что мы в скорой, Тёма ударился головой, интернет не грузит, мне пи... пацаны.',\n",
       " 'Короче, Авет, сколько всего произошло на прошлой неделе ты даже не в курсе. Потому что у тебя на лице и так черные точки. И знаешь, Черное море подходит, кубернатор Краснодарского края говорит, море, у тебя есть QR-код? А зачем мы это смотрим?']"
      ]
     },
     "execution_count": 15,
     "metadata": {},
     "output_type": "execute_result"
    }
   ],
   "source": [
    "dataset.stt_sum.to_list()[:3]"
   ]
  },
  {
   "cell_type": "code",
   "execution_count": 16,
   "id": "9e0db165-e0a6-4900-bd38-2af6003f9fa6",
   "metadata": {},
   "outputs": [],
   "source": [
    "# dataset.to_csv(\"train_with_generated_sum.csv\")"
   ]
  },
  {
   "cell_type": "markdown",
   "id": "eb64a78e-3cac-48fa-8fa2-661b7e785d4c",
   "metadata": {},
   "source": [
    "### Посчитаем метрику meteor"
   ]
  },
  {
   "cell_type": "code",
   "execution_count": 17,
   "id": "cec2917f-7856-4afe-8ae7-aa848d11a003",
   "metadata": {},
   "outputs": [],
   "source": [
    "def func(stt_name, text, text_sum):\n",
    "    if isinstance(text_sum, str):\n",
    "        return round(meteor([word_tokenize(text)],word_tokenize(text_sum)), 4)\n",
    "    else:\n",
    "        return 0\n",
    "dataset['meteor'] = dataset.apply(lambda l: func(l['stt_name'], l.description, l.stt_sum), axis=1)"
   ]
  },
  {
   "cell_type": "code",
   "execution_count": 18,
   "id": "9d7555bf-1c82-4d6e-8393-4e2cf6807892",
   "metadata": {},
   "outputs": [
    {
     "name": "stdout",
     "output_type": "stream",
     "text": [
      "Значение метрики meteor для unsupervised модели 0.0997954\n"
     ]
    }
   ],
   "source": [
    "print(\"Значение метрики meteor для unsupervised модели\", dataset.meteor.mean())"
   ]
  },
  {
   "cell_type": "code",
   "execution_count": 19,
   "id": "3fb179c2-8578-451e-9cfd-c23b7ac5325f",
   "metadata": {},
   "outputs": [],
   "source": [
    "# метрика в данной реализации имеет значения от 0 до 1"
   ]
  },
  {
   "cell_type": "markdown",
   "id": "3cd3d928-e151-4623-bf10-66dad2b576c7",
   "metadata": {},
   "source": [
    "### Сравним с моделью, которая выдает первые 4 предложения из STT"
   ]
  },
  {
   "cell_type": "code",
   "execution_count": 26,
   "id": "17103481-2017-4c3b-be1f-ab9b8a38f2db",
   "metadata": {},
   "outputs": [
    {
     "name": "stdout",
     "output_type": "stream",
     "text": [
      "CPU times: user 45 s, sys: 12.2 ms, total: 45 s\n",
      "Wall time: 45 s\n"
     ]
    }
   ],
   "source": [
    "%%time\n",
    "def func(stt_name, text, category_name):\n",
    "    with open(os.path.join(PATH_TO_DATA, 'train_stt', stt_name), 'r') as f:\n",
    "        lines = f.readlines()\n",
    "        lines = [del_timestamps(line.strip()) for line in lines]\n",
    "        res = lines[:4]\n",
    "    res = \" \".join(lines)\n",
    "    if isinstance(res, str):\n",
    "        return round(meteor([word_tokenize(text)],word_tokenize(res)), 4)\n",
    "    else:\n",
    "        return round(meteor([word_tokenize(text)],word_tokenize(category_name)), 4)\n",
    "dataset['meteor_first4'] = dataset.apply(lambda l: func(l['stt_name'], l.description, l.category_name), axis=1)"
   ]
  },
  {
   "cell_type": "code",
   "execution_count": 27,
   "id": "a7b3418c-ac2d-4664-8f15-2f2e83195027",
   "metadata": {},
   "outputs": [
    {
     "name": "stdout",
     "output_type": "stream",
     "text": [
      "Значение метрики meteor для модели, выдающей первые 4 предложения 0.057508199999999995\n"
     ]
    }
   ],
   "source": [
    "print(\"Значение метрики meteor для модели, выдающей первые 4 предложения\", dataset.meteor_first4.mean())"
   ]
  },
  {
   "cell_type": "markdown",
   "id": "dfbf3c49-9357-43e9-ad79-fbfb3a3efd85",
   "metadata": {},
   "source": [
    "### Даже если вы не будете работать с видео контентом, способов делать суммаризацию текста - масса. В целом методы делятся на экстрактивные и абстрактивные (extractive/abstractive). Наш пример - экстрактивный. К асбтрактивным относятся всяческие языковые модели, например T5, можете посмотреть примеры, как его тьюнить: \n",
    "- https://github.com/priya-dwivedi/Deep-Learning/blob/master/wikihow-fine-tuning-T5/Tune_T5_WikiHow-Github.ipynb\n",
    "\n",
    "Путём навешивания дополнительных слоёв, можно затьюнить BERT на абстрактивный способ генерации текста\n",
    "- https://github.com/nlpyang/PreSumm/tree/master\n",
    "\n",
    "Также можно затьюнить BERT на экстрактивный подход\n",
    "- https://github.com/chriskhanhtran/bert-extractive-summarization/tree/master\n",
    "\n"
   ]
  },
  {
   "cell_type": "markdown",
   "id": "162e6163-40a7-404d-a6a1-2c6a5406773b",
   "metadata": {},
   "source": [
    "### Но не забывайте, что для части видео речи нет и иногда речь не всегда соотвествует видеоматериалу, поэтому стоит обратить внимание на Image/Video captioning\n",
    "- https://aclanthology.org/2020.emnlp-main.61.pdf"
   ]
  },
  {
   "cell_type": "code",
   "execution_count": null,
   "id": "e0db9892-d887-4d60-9fef-4a310f03a439",
   "metadata": {},
   "outputs": [],
   "source": []
  }
 ],
 "metadata": {
  "kernelspec": {
   "display_name": "Python 3 (ipykernel)",
   "language": "python",
   "name": "python3"
  },
  "language_info": {
   "codemirror_mode": {
    "name": "ipython",
    "version": 3
   },
   "file_extension": ".py",
   "mimetype": "text/x-python",
   "name": "python",
   "nbconvert_exporter": "python",
   "pygments_lexer": "ipython3",
   "version": "3.8.10"
  }
 },
 "nbformat": 4,
 "nbformat_minor": 5
}
